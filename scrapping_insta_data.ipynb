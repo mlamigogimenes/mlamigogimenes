{
 "cells": [
  {
   "cell_type": "markdown",
   "metadata": {},
   "source": [
    "# Scrapping Data from Instagram"
   ]
  },
  {
   "cell_type": "code",
   "execution_count": 2,
   "metadata": {},
   "outputs": [],
   "source": [
    "from instagramy import InstagramUser \n",
    "import pandas as pd"
   ]
  },
  {
   "cell_type": "code",
   "execution_count": 1,
   "metadata": {},
   "outputs": [
    {
     "name": "stdout",
     "output_type": "stream",
     "text": [
      "Virginia Fonseca Costa (virginia) -> 2022 é NOSSO 💖💖💖💖\n",
      "CONTATO: virginia@talismadigital.com.br 📩\n",
      "PERFUME NOVO! CUPOM: VI50 👇🏻\n",
      "True\n"
     ]
    }
   ],
   "source": [
    "from instagramy import InstagramUser\n",
    " \n",
    "# Connecting the profile\n",
    "user = InstagramUser(\"Virginia\")\n",
    " \n",
    "# printing the basic details like\n",
    "# followers, following, bio\n",
    "print(user)\n",
    "print(user.is_verified)\n",
    "\n"
   ]
  },
  {
   "cell_type": "code",
   "execution_count": 19,
   "metadata": {},
   "outputs": [
    {
     "name": "stdout",
     "output_type": "stream",
     "text": [
      "39014155\n",
      "1849\n"
     ]
    }
   ],
   "source": [
    "print(user.number_of_followers)\n",
    "print(user.number_of_posts)\n",
    "# print(user.posts)"
   ]
  },
  {
   "cell_type": "code",
   "execution_count": 24,
   "metadata": {},
   "outputs": [
    {
     "data": {
      "text/plain": [
       "12"
      ]
     },
     "execution_count": 24,
     "metadata": {},
     "output_type": "execute_result"
    }
   ],
   "source": [
    "len(list(user.posts))"
   ]
  },
  {
   "cell_type": "code",
   "execution_count": 23,
   "metadata": {},
   "outputs": [
    {
     "name": "stderr",
     "output_type": "stream",
     "text": [
      "C:\\Users\\Felipe\\AppData\\Roaming\\Python\\Python37\\site-packages\\ipykernel_launcher.py:16: FutureWarning: As the xlwt package is no longer maintained, the xlwt engine will be removed in a future version of pandas. This is the only engine in pandas that supports writing in the xls format. Install openpyxl and write to an xlsx file instead. You can set the option io.excel.xls.writer to 'xlwt' to silence this warning. While this option is deprecated and will also raise a warning, it can be globally set and the warning suppressed.\n",
      "  \n"
     ]
    }
   ],
   "source": [
    "list_of_posts = []\n",
    "for post in list(user.posts):\n",
    "    posts_data = {}\n",
    "    posts_data['likes'] = post[0]\n",
    "    posts_data['comments'] = post[1]\n",
    "    posts_data['is_video'] = post[3]\n",
    "    posts_data['date'] = post[4]\n",
    "    posts_data['post_url'] = post[7]\n",
    "    posts_data['updated_at'] = post[10]\n",
    "    list_of_posts.append(posts_data)\n",
    "\n",
    "list_of_posts\n",
    "df = pd.DataFrame(list_of_posts)\n",
    "df['date'] = pd.to_datetime(df['date'],unit='s')\n",
    "\n",
    "df.to_excel('instagram_data.xls', index=False)\n"
   ]
  },
  {
   "cell_type": "code",
   "execution_count": null,
   "metadata": {},
   "outputs": [],
   "source": []
  }
 ],
 "metadata": {
  "kernelspec": {
   "display_name": "Python 3.7.2 32-bit",
   "language": "python",
   "name": "python3"
  },
  "language_info": {
   "codemirror_mode": {
    "name": "ipython",
    "version": 3
   },
   "file_extension": ".py",
   "mimetype": "text/x-python",
   "name": "python",
   "nbconvert_exporter": "python",
   "pygments_lexer": "ipython3",
   "version": "3.7.2"
  },
  "orig_nbformat": 4,
  "vscode": {
   "interpreter": {
    "hash": "6bdde5135f271d762d79f1d71de85d2e09ad86848b48d470f9a6c7a7ee42745a"
   }
  }
 },
 "nbformat": 4,
 "nbformat_minor": 2
}
